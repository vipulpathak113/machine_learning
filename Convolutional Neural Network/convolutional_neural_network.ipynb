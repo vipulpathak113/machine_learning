{
 "cells": [
  {
   "cell_type": "markdown",
   "metadata": {
    "id": "3DR-eO17geWu"
   },
   "source": [
    "# Convolutional Neural Network"
   ]
  },
  {
   "cell_type": "markdown",
   "metadata": {
    "id": "EMefrVPCg-60"
   },
   "source": [
    "### Importing the libraries"
   ]
  },
  {
   "cell_type": "code",
   "execution_count": 1,
   "metadata": {
    "id": "85MJhRAqJoSs"
   },
   "outputs": [],
   "source": [
    "import tensorflow as tf\n",
    "from keras.preprocessing.image import ImageDataGenerator"
   ]
  },
  {
   "cell_type": "code",
   "execution_count": 2,
   "metadata": {
    "colab": {
     "base_uri": "https://localhost:8080/",
     "height": 35
    },
    "id": "FIleuCAjoFD8",
    "outputId": "c49a33c4-a4d0-4d20-c07c-d294b2952f80"
   },
   "outputs": [
    {
     "data": {
      "text/plain": [
       "'2.3.1'"
      ]
     },
     "execution_count": 2,
     "metadata": {},
     "output_type": "execute_result"
    }
   ],
   "source": [
    "tf.__version__"
   ]
  },
  {
   "cell_type": "markdown",
   "metadata": {
    "id": "oxQxCBWyoGPE"
   },
   "source": [
    "## Part 1 - Data Preprocessing"
   ]
  },
  {
   "cell_type": "markdown",
   "metadata": {
    "id": "MvE-heJNo3GG"
   },
   "source": [
    "### Preprocessing the Training set"
   ]
  },
  {
   "cell_type": "code",
   "execution_count": 3,
   "metadata": {
    "id": "Z9mgMIt9MRPN"
   },
   "outputs": [
    {
     "name": "stdout",
     "output_type": "stream",
     "text": [
      "Found 8000 images belonging to 2 classes.\n"
     ]
    }
   ],
   "source": [
    "train_datagen = ImageDataGenerator(\n",
    "        rescale=1./255,\n",
    "        shear_range=0.2,\n",
    "        zoom_range=0.2,\n",
    "        horizontal_flip=True)\n",
    "train_set = train_datagen.flow_from_directory(\n",
    "        'dataset/training_set',\n",
    "        target_size=(64, 64),\n",
    "        batch_size=32,\n",
    "        class_mode='binary')"
   ]
  },
  {
   "cell_type": "markdown",
   "metadata": {
    "id": "mrCMmGw9pHys"
   },
   "source": [
    "### Preprocessing the Test set"
   ]
  },
  {
   "cell_type": "code",
   "execution_count": 4,
   "metadata": {
    "id": "1OUdE8FeM6XM"
   },
   "outputs": [
    {
     "name": "stdout",
     "output_type": "stream",
     "text": [
      "Found 2000 images belonging to 2 classes.\n"
     ]
    }
   ],
   "source": [
    "test_datagen = ImageDataGenerator(rescale=1./255)\n",
    "test_data = test_datagen.flow_from_directory(\n",
    "        'dataset/test_set',\n",
    "        target_size=(64, 64),\n",
    "        batch_size=32,\n",
    "        class_mode='binary')"
   ]
  },
  {
   "cell_type": "markdown",
   "metadata": {
    "id": "af8O4l90gk7B"
   },
   "source": [
    "## Part 2 - Building the CNN"
   ]
  },
  {
   "cell_type": "markdown",
   "metadata": {
    "id": "ces1gXY2lmoX"
   },
   "source": [
    "### Initialising the CNN"
   ]
  },
  {
   "cell_type": "code",
   "execution_count": 5,
   "metadata": {
    "id": "fxGNqPvrOAeX"
   },
   "outputs": [],
   "source": [
    "cnn= tf.keras.models.Sequential()"
   ]
  },
  {
   "cell_type": "markdown",
   "metadata": {
    "id": "u5YJj_XMl5LF"
   },
   "source": [
    "### Step 1 - Convolution"
   ]
  },
  {
   "cell_type": "code",
   "execution_count": 6,
   "metadata": {
    "id": "e4pMQGQyOI_P"
   },
   "outputs": [],
   "source": [
    "cnn.add(tf.keras.layers.Conv2D(filters=32,kernel_size=3,activation='relu',input_shape=[64,64,3]))"
   ]
  },
  {
   "cell_type": "markdown",
   "metadata": {
    "id": "tf87FpvxmNOJ"
   },
   "source": [
    "### Step 2 - Pooling"
   ]
  },
  {
   "cell_type": "code",
   "execution_count": 7,
   "metadata": {
    "id": "Q3Kgf1o4PCie"
   },
   "outputs": [],
   "source": [
    "cnn.add(tf.keras.layers.MaxPool2D(pool_size=2,strides=2))"
   ]
  },
  {
   "cell_type": "markdown",
   "metadata": {
    "id": "xaTOgD8rm4mU"
   },
   "source": [
    "### Adding a second convolutional layer"
   ]
  },
  {
   "cell_type": "code",
   "execution_count": 8,
   "metadata": {
    "id": "z02xX1eLPQ9V"
   },
   "outputs": [],
   "source": [
    "cnn.add(tf.keras.layers.Conv2D(filters=32,kernel_size=3,activation='relu'))\n",
    "cnn.add(tf.keras.layers.MaxPool2D(pool_size=2,strides=2))"
   ]
  },
  {
   "cell_type": "markdown",
   "metadata": {
    "id": "tmiEuvTunKfk"
   },
   "source": [
    "### Step 3 - Flattening"
   ]
  },
  {
   "cell_type": "code",
   "execution_count": 9,
   "metadata": {
    "id": "FKVDjZ-LPdcG"
   },
   "outputs": [],
   "source": [
    "cnn.add(tf.keras.layers.Flatten())"
   ]
  },
  {
   "cell_type": "markdown",
   "metadata": {
    "id": "dAoSECOm203v"
   },
   "source": [
    "### Step 4 - Full Connection"
   ]
  },
  {
   "cell_type": "code",
   "execution_count": 10,
   "metadata": {
    "id": "-8zxEeUQPnD4"
   },
   "outputs": [],
   "source": [
    "cnn.add(tf.keras.layers.Dense(units=128,activation='relu'))"
   ]
  },
  {
   "cell_type": "markdown",
   "metadata": {
    "id": "yTldFvbX28Na"
   },
   "source": [
    "### Step 5 - Output Layer"
   ]
  },
  {
   "cell_type": "code",
   "execution_count": 11,
   "metadata": {
    "id": "iz5v3GwRP7Aa"
   },
   "outputs": [],
   "source": [
    "cnn.add(tf.keras.layers.Dense(units=1,activation='sigmoid'))"
   ]
  },
  {
   "cell_type": "markdown",
   "metadata": {
    "id": "D6XkI90snSDl"
   },
   "source": [
    "## Part 3 - Training the CNN"
   ]
  },
  {
   "cell_type": "markdown",
   "metadata": {
    "id": "vfrFQACEnc6i"
   },
   "source": [
    "### Compiling the CNN"
   ]
  },
  {
   "cell_type": "code",
   "execution_count": 12,
   "metadata": {
    "id": "9vRKWGpWQFLf"
   },
   "outputs": [],
   "source": [
    "cnn.compile(optimizer='adam',loss='binary_crossentropy',metrics=['accuracy'])"
   ]
  },
  {
   "cell_type": "markdown",
   "metadata": {
    "id": "ehS-v3MIpX2h"
   },
   "source": [
    "### Training the CNN on the Training set and evaluating it on the Test set"
   ]
  },
  {
   "cell_type": "code",
   "execution_count": 13,
   "metadata": {
    "id": "VgRd9h09Qt7t"
   },
   "outputs": [
    {
     "name": "stdout",
     "output_type": "stream",
     "text": [
      "Epoch 1/25\n",
      "250/250 [==============================] - 95s 381ms/step - loss: 0.6631 - accuracy: 0.5928 - val_loss: 0.5949 - val_accuracy: 0.6965\n",
      "Epoch 2/25\n",
      "250/250 [==============================] - 47s 189ms/step - loss: 0.5864 - accuracy: 0.6959 - val_loss: 0.5716 - val_accuracy: 0.7070\n",
      "Epoch 3/25\n",
      "250/250 [==============================] - 52s 209ms/step - loss: 0.5484 - accuracy: 0.7234 - val_loss: 0.5249 - val_accuracy: 0.7495\n",
      "Epoch 4/25\n",
      "250/250 [==============================] - 50s 199ms/step - loss: 0.5169 - accuracy: 0.7444 - val_loss: 0.5190 - val_accuracy: 0.7460\n",
      "Epoch 5/25\n",
      "250/250 [==============================] - 51s 205ms/step - loss: 0.4976 - accuracy: 0.7609 - val_loss: 0.5010 - val_accuracy: 0.7665\n",
      "Epoch 6/25\n",
      "250/250 [==============================] - 60s 240ms/step - loss: 0.4816 - accuracy: 0.7625 - val_loss: 0.4806 - val_accuracy: 0.7765\n",
      "Epoch 7/25\n",
      "250/250 [==============================] - 55s 220ms/step - loss: 0.4609 - accuracy: 0.7849 - val_loss: 0.5040 - val_accuracy: 0.7755\n",
      "Epoch 8/25\n",
      "250/250 [==============================] - 63s 251ms/step - loss: 0.4465 - accuracy: 0.7870 - val_loss: 0.5049 - val_accuracy: 0.7650\n",
      "Epoch 9/25\n",
      "250/250 [==============================] - 67s 266ms/step - loss: 0.4297 - accuracy: 0.7987 - val_loss: 0.4833 - val_accuracy: 0.7840\n",
      "Epoch 10/25\n",
      "250/250 [==============================] - 61s 245ms/step - loss: 0.4206 - accuracy: 0.8054 - val_loss: 0.4491 - val_accuracy: 0.7990\n",
      "Epoch 11/25\n",
      "250/250 [==============================] - 59s 237ms/step - loss: 0.4078 - accuracy: 0.8120 - val_loss: 0.4505 - val_accuracy: 0.7955\n",
      "Epoch 12/25\n",
      "250/250 [==============================] - 59s 236ms/step - loss: 0.4029 - accuracy: 0.8164 - val_loss: 0.4628 - val_accuracy: 0.7900\n",
      "Epoch 13/25\n",
      "250/250 [==============================] - 57s 229ms/step - loss: 0.4015 - accuracy: 0.8145 - val_loss: 0.4896 - val_accuracy: 0.7825\n",
      "Epoch 14/25\n",
      "250/250 [==============================] - 62s 249ms/step - loss: 0.3835 - accuracy: 0.8259 - val_loss: 0.4426 - val_accuracy: 0.8045\n",
      "Epoch 15/25\n",
      "250/250 [==============================] - 60s 238ms/step - loss: 0.3750 - accuracy: 0.8282 - val_loss: 0.4419 - val_accuracy: 0.8080\n",
      "Epoch 16/25\n",
      "250/250 [==============================] - 58s 232ms/step - loss: 0.3667 - accuracy: 0.8366 - val_loss: 0.4434 - val_accuracy: 0.8000\n",
      "Epoch 17/25\n",
      "250/250 [==============================] - 63s 254ms/step - loss: 0.3666 - accuracy: 0.8379 - val_loss: 0.4648 - val_accuracy: 0.8070\n",
      "Epoch 18/25\n",
      "250/250 [==============================] - 56s 225ms/step - loss: 0.3481 - accuracy: 0.8445 - val_loss: 0.4820 - val_accuracy: 0.7945\n",
      "Epoch 19/25\n",
      "250/250 [==============================] - 56s 224ms/step - loss: 0.3376 - accuracy: 0.8511 - val_loss: 0.4488 - val_accuracy: 0.8040\n",
      "Epoch 20/25\n",
      "250/250 [==============================] - 54s 218ms/step - loss: 0.3321 - accuracy: 0.8541 - val_loss: 0.4461 - val_accuracy: 0.8050\n",
      "Epoch 21/25\n",
      "250/250 [==============================] - 58s 230ms/step - loss: 0.3285 - accuracy: 0.8585 - val_loss: 0.4340 - val_accuracy: 0.8090\n",
      "Epoch 22/25\n",
      "250/250 [==============================] - 54s 215ms/step - loss: 0.3063 - accuracy: 0.8661 - val_loss: 0.5125 - val_accuracy: 0.7900\n",
      "Epoch 23/25\n",
      "250/250 [==============================] - 56s 224ms/step - loss: 0.3039 - accuracy: 0.8636 - val_loss: 0.4934 - val_accuracy: 0.7975\n",
      "Epoch 24/25\n",
      "250/250 [==============================] - 58s 232ms/step - loss: 0.2969 - accuracy: 0.8721 - val_loss: 0.4681 - val_accuracy: 0.8140\n",
      "Epoch 25/25\n",
      "250/250 [==============================] - 60s 241ms/step - loss: 0.3002 - accuracy: 0.8735 - val_loss: 0.5016 - val_accuracy: 0.7970\n"
     ]
    },
    {
     "data": {
      "text/plain": [
       "<tensorflow.python.keras.callbacks.History at 0x16eb40336c8>"
      ]
     },
     "execution_count": 13,
     "metadata": {},
     "output_type": "execute_result"
    }
   ],
   "source": [
    "cnn.fit(x=train_set,validation_data=test_data,epochs=25)"
   ]
  },
  {
   "cell_type": "markdown",
   "metadata": {
    "id": "U3PZasO0006Z"
   },
   "source": [
    "## Part 4 - Making a single prediction"
   ]
  },
  {
   "cell_type": "code",
   "execution_count": 47,
   "metadata": {},
   "outputs": [
    {
     "name": "stdout",
     "output_type": "stream",
     "text": [
      "result [[1.]]\n",
      "class_indices {'cats': 0, 'dogs': 1}\n"
     ]
    }
   ],
   "source": [
    "import numpy as np\n",
    "from keras.preprocessing import image\n",
    "test_image = image.load_img('dataset/single_prediction/cat_or_dog_2.jpg', target_size = (64, 64))\n",
    "test_image = image.img_to_array(test_image)\n",
    "test_image = np.expand_dims(test_image, axis = 0)\n",
    "result = cnn.predict(test_image)\n",
    "print(\"result\",result)\n",
    "print(\"class_indices\",train_set.class_indices)\n",
    "if result[0][0] == 1:\n",
    "  prediction = 'dog'\n",
    "else:\n",
    "  prediction = 'cat'"
   ]
  },
  {
   "cell_type": "code",
   "execution_count": 48,
   "metadata": {},
   "outputs": [
    {
     "name": "stdout",
     "output_type": "stream",
     "text": [
      "dog\n"
     ]
    }
   ],
   "source": [
    "print(prediction)"
   ]
  },
  {
   "cell_type": "code",
   "execution_count": null,
   "metadata": {},
   "outputs": [],
   "source": []
  }
 ],
 "metadata": {
  "colab": {
   "collapsed_sections": [],
   "name": "Copy of convolutional_neural_network.ipynb",
   "provenance": [],
   "toc_visible": true
  },
  "kernelspec": {
   "display_name": "Python 3",
   "language": "python",
   "name": "python3"
  },
  "language_info": {
   "codemirror_mode": {
    "name": "ipython",
    "version": 3
   },
   "file_extension": ".py",
   "mimetype": "text/x-python",
   "name": "python",
   "nbconvert_exporter": "python",
   "pygments_lexer": "ipython3",
   "version": "3.7.4"
  }
 },
 "nbformat": 4,
 "nbformat_minor": 1
}
